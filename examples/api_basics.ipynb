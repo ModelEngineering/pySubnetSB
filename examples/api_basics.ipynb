{
 "cells": [
  {
   "cell_type": "markdown",
   "id": "185e3716-4d8d-4f8e-ad03-0bb3ccaac41d",
   "metadata": {},
   "source": [
    "# API BASICS"
   ]
  },
  {
   "cell_type": "code",
   "execution_count": null,
   "id": "b289d40f-44f5-4102-bba3-b6c0ec5fd820",
   "metadata": {},
   "outputs": [],
   "source": [
    "from sirn.api import "
   ]
  }
 ],
 "metadata": {
  "kernelspec": {
   "display_name": "Python 3 (ipykernel)",
   "language": "python",
   "name": "python3"
  },
  "language_info": {
   "codemirror_mode": {
    "name": "ipython",
    "version": 3
   },
   "file_extension": ".py",
   "mimetype": "text/x-python",
   "name": "python",
   "nbconvert_exporter": "python",
   "pygments_lexer": "ipython3",
   "version": "3.9.6"
  }
 },
 "nbformat": 4,
 "nbformat_minor": 5
}
