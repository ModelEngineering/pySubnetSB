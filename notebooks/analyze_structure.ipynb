{
 "cells": [
  {
   "cell_type": "markdown",
   "id": "d9611d53-baad-400c-afa1-4fb0402e826b",
   "metadata": {},
   "source": [
    "# ANALYZE STRUCTURE OF OSCILLATORS"
   ]
  },
  {
   "cell_type": "code",
   "execution_count": 12,
   "id": "9a4ca71b-d538-4462-9ffb-0e4a2493018f",
   "metadata": {},
   "outputs": [],
   "source": [
    "import os\n",
    "import SBMLDiagrams as sd\n",
    "import pandas as pd\n",
    "from sirn.pmc_serializer import PMCSerializer\n",
    "from sirn.pmatrix_collection import PMatrixCollection\n",
    "import sirn.constants as cn\n",
    "import tellurium as te"
   ]
  },
  {
   "cell_type": "code",
   "execution_count": 37,
   "id": "4c53d0e1-875f-4ac4-a512-264ac96708da",
   "metadata": {},
   "outputs": [],
   "source": [
    "OSCILLATOR_PROJECT_DIR = \"/Users/jlheller/home/Technical/repos/OscillatorDatabase\"\n",
    "STRUCTURALLY_IDENTICAL_FILES = \"bestmodel_ZKtQg5szoAUk---bestmodel_lTR7BUrpcTAy---bestmodel_Y4fPEi7PvO0w---bestmodel_yhI1I1IxoudY---bestmodel_wCBCoNxIRqb0---bestmodel_xTKG3iamyD4S---bestmodel_ZqsnhNDEiUsx\".split(\"---\")\n",
    "DIRECTORY = os.path.join(OSCILLATOR_PROJECT_DIR, \"Oscillators_DOE_JUNE_12_C_27662\")"
   ]
  },
  {
   "cell_type": "code",
   "execution_count": 38,
   "id": "6b3a19b8-7dd1-4943-9cda-dacd1125e76b",
   "metadata": {},
   "outputs": [
    {
     "data": {
      "text/plain": [
       "['bestmodel_ZKtQg5szoAUk',\n",
       " 'bestmodel_lTR7BUrpcTAy',\n",
       " 'bestmodel_Y4fPEi7PvO0w',\n",
       " 'bestmodel_yhI1I1IxoudY',\n",
       " 'bestmodel_wCBCoNxIRqb0',\n",
       " 'bestmodel_xTKG3iamyD4S',\n",
       " 'bestmodel_ZqsnhNDEiUsx']"
      ]
     },
     "execution_count": 38,
     "metadata": {},
     "output_type": "execute_result"
    }
   ],
   "source": [
    "STRUCTURALLY_IDENTICAL_FILES"
   ]
  },
  {
   "cell_type": "code",
   "execution_count": 10,
   "id": "dcf5b847-2ef7-4574-9d50-130234620c14",
   "metadata": {},
   "outputs": [
    {
     "name": "stdout",
     "output_type": "stream",
     "text": [
      "['Oscillators_May_28_2024_8898', 'Oscillators_June_9_2024_18070', 'Oscillators_June_10_A_11515', 'Oscillators_June_10_B_10507', 'Oscillators_June_11_10160', 'Oscillators_June_11_A_2024_6877', 'Oscillators_June_11_B_2024_7809', 'Oscillators_DOE_JUNE_10_17565', 'Oscillators_DOE_JUNE_12_A_30917', 'Oscillators_DOE_JUNE_12_B_41373', 'Oscillators_DOE_JUNE_12_C_27662']\n"
     ]
    }
   ],
   "source": [
    "print(cn.OSCILLATOR_DIRS)"
   ]
  },
  {
   "cell_type": "code",
   "execution_count": null,
   "id": "5ebd91e2-816b-4f3e-8e12-6be5398252b9",
   "metadata": {},
   "outputs": [],
   "source": []
  },
  {
   "cell_type": "code",
   "execution_count": 44,
   "id": "b752cbbc-af88-4231-a04c-2548a6bbbcf6",
   "metadata": {},
   "outputs": [
    {
     "name": "stdout",
     "output_type": "stream",
     "text": [
      "\n",
      "\n",
      "***bestmodel_ZKtQg5szoAUk***\n",
      "S2 -> S1 + S2; k1*S2\n",
      "S2 -> S2 + S2; k2*S2\n",
      "S0 + S1 -> S0; k3*S0*S1\n",
      "S1 + S2 -> S1; k4*S1*S2\n",
      "k1 = 269.34707587541277\n",
      "k2 = 60.25478099219909\n",
      "k3 = 9.708813759773985\n",
      "k4 = 2.6580339984035137\n",
      "S0 = 1.0\n",
      "S1 = 5.0\n",
      "S2 = 9.0\n",
      "\n",
      "#fitness: 0.010533933868100998\n",
      "      _J0, _J1, _J2, _J3\n",
      "S2 [[   0,   1,   0,  -1],\n",
      "S1  [   1,   0,  -1,   0],\n",
      "S0  [   0,   0,   0,   0]]\n",
      "\n",
      "\n",
      "\n",
      "***bestmodel_lTR7BUrpcTAy***\n",
      "S2 -> S1 + S2; k1*S2\n",
      "S1 -> S1 + S2; k2*S1\n",
      "S1 + S2 -> S1; k3*S1*S2\n",
      "S0 + S1 -> S0; k4*S0*S1\n",
      "k1 = 134.85391054518985\n",
      "k2 = 0.2618898320507899\n",
      "k3 = 0.6839573639615687\n",
      "k4 = 10.216160875415516\n",
      "S0 = 1.0\n",
      "S1 = 5.0\n",
      "S2 = 9.0\n",
      "\n",
      "#fitness: 0.009368601631562357\n",
      "      _J0, _J1, _J2, _J3\n",
      "S2 [[   0,   1,  -1,   0],\n",
      "S1  [   1,   0,   0,  -1],\n",
      "S0  [   0,   0,   0,   0]]\n",
      "\n",
      "\n",
      "\n",
      "***bestmodel_Y4fPEi7PvO0w***\n",
      "S2 -> S1 + S2; k1*S2\n",
      "S2 -> S2 + S2; k2*S2\n",
      "S0 + S1 -> S0; k3*S0*S1\n",
      "S1 + S2 -> S1; k4*S1*S2\n",
      "k1 = 601.4930899862853\n",
      "k2 = 40.13089354097397\n",
      "k3 = 13.250842257269145\n",
      "k4 = 1.573007505680502\n",
      "S0 = 1.0\n",
      "S1 = 5.0\n",
      "S2 = 9.0\n",
      "\n",
      "#fitness: 0.00996529821939902\n",
      "      _J0, _J1, _J2, _J3\n",
      "S2 [[   0,   1,   0,  -1],\n",
      "S1  [   1,   0,  -1,   0],\n",
      "S0  [   0,   0,   0,   0]]\n",
      "\n",
      "\n",
      "\n",
      "***bestmodel_yhI1I1IxoudY***\n",
      "S2 -> S1 + S2; k1*S2\n",
      "S2 -> S2 + S2; k2*S2\n",
      "S0 + S1 -> S0; k3*S0*S1\n",
      "S1 + S2 -> S1; k4*S1*S2\n",
      "k1 = 314.1951236445023\n",
      "k2 = 61.289121018588844\n",
      "k3 = 10.013229670744828\n",
      "k4 = 2.746525011231811\n",
      "S0 = 1.0\n",
      "S1 = 5.0\n",
      "S2 = 9.0\n",
      "\n",
      "#fitness: 0.010695648106280748\n",
      "      _J0, _J1, _J2, _J3\n",
      "S2 [[   0,   1,   0,  -1],\n",
      "S1  [   1,   0,  -1,   0],\n",
      "S0  [   0,   0,   0,   0]]\n",
      "\n",
      "\n",
      "\n",
      "***bestmodel_wCBCoNxIRqb0***\n",
      "S2 -> S1 + S2; k1*S2\n",
      "S0 + S1 -> S0; k2*S0*S1\n",
      "S2 -> S0 + S2; k3*S2\n",
      "S0 + S2 -> S2; k4*S0*S2\n",
      "k1 = 106.27768250899788\n",
      "k2 = 1.2473448859263345\n",
      "k3 = 30.75357043193187\n",
      "k4 = 0.1865957531999142\n",
      "S0 = 1.0\n",
      "S1 = 5.0\n",
      "S2 = 9.0\n",
      "\n",
      "#fitness: 0.00941806131598989\n",
      "      _J0, _J1, _J2, _J3\n",
      "S2 [[   0,   0,   0,   0],\n",
      "S1  [   1,  -1,   0,   0],\n",
      "S0  [   0,   0,   1,  -1]]\n",
      "\n",
      "\n",
      "\n",
      "***bestmodel_xTKG3iamyD4S***\n",
      "S1 + S2 -> S1; k1*S1*S2\n",
      "S2 -> S1 + S2; k2*S2\n",
      "S0 + S1 -> S0; k3*S0*S1\n",
      "S2 -> S2 + S2; k4*S2\n",
      "k1 = 2.614242860371739\n",
      "k2 = 74.55170717621523\n",
      "k3 = 4.527388383312493\n",
      "k4 = 44.158227694302944\n",
      "S0 = 1.0\n",
      "S1 = 5.0\n",
      "S2 = 9.0\n",
      "\n",
      "#fitness: 0.009311543457885667\n",
      "      _J0, _J1, _J2, _J3\n",
      "S1 [[   0,   1,  -1,   0],\n",
      "S2  [  -1,   0,   0,   1],\n",
      "S0  [   0,   0,   0,   0]]\n",
      "\n",
      "\n",
      "\n",
      "***bestmodel_ZqsnhNDEiUsx***\n",
      "S2 -> S1 + S2; k1*S2\n",
      "S2 -> S2 + S2; k2*S2\n",
      "S0 + S1 -> S0; k3*S0*S1\n",
      "S1 + S2 -> S1; k4*S1*S2\n",
      "k1 = 7.85162607976089\n",
      "k2 = 82.25571085566656\n",
      "k3 = 6.791951260998792\n",
      "k4 = 3.945650673540993\n",
      "S0 = 1.0\n",
      "S1 = 5.0\n",
      "S2 = 9.0\n",
      "\n",
      "#fitness: 0.010653350968253684\n",
      "      _J0, _J1, _J2, _J3\n",
      "S2 [[   0,   1,   0,  -1],\n",
      "S1  [   1,   0,  -1,   0],\n",
      "S0  [   0,   0,   0,   0]]\n",
      "\n"
     ]
    }
   ],
   "source": [
    "ANTIMONY_STRS = []\n",
    "for ffile in STRUCTURALLY_IDENTICAL_FILES:\n",
    "    path = os.path.join(DIRECTORY, ffile)\n",
    "    with open(path, \"r\") as fd:\n",
    "        antimony_str = fd.readlines()\n",
    "        ANTIMONY_STRS.append(antimony_str)\n",
    "        rr = te.loada(\"\".join(antimony_str))\n",
    "    print(f'\\n\\n***{ffile}***')\n",
    "    print(\"\".join(antimony_str))\n",
    "    print(rr.getFullStoichiometryMatrix())"
   ]
  },
  {
   "cell_type": "code",
   "execution_count": 28,
   "id": "a4b92a93-7bed-4138-a39d-bc6a6fb25c1d",
   "metadata": {},
   "outputs": [
    {
     "data": {
      "text/plain": [
       "'bestmodel_4XpqKkCsNTOk'"
      ]
     },
     "execution_count": 28,
     "metadata": {},
     "output_type": "execute_result"
    }
   ],
   "source": [
    "ffile"
   ]
  },
  {
   "cell_type": "code",
   "execution_count": 26,
   "id": "d0f87e01-8aff-4126-a506-e0850cf5ce7c",
   "metadata": {},
   "outputs": [
    {
     "name": "stdout",
     "output_type": "stream",
     "text": [
      "LICENSE                         \u001b[1m\u001b[36mOscillators_June_11_10160\u001b[m\u001b[m\n",
      "\u001b[1m\u001b[36mOscillators_DOE_June_10_17565\u001b[m\u001b[m   \u001b[1m\u001b[36mOscillators_June_11_A_2024_6877\u001b[m\u001b[m\n",
      "\u001b[1m\u001b[36mOscillators_DOE_June_12_A_30917\u001b[m\u001b[m \u001b[1m\u001b[36mOscillators_June_11_B_2024_7809\u001b[m\u001b[m\n",
      "\u001b[1m\u001b[36mOscillators_DOE_June_12_B_41373\u001b[m\u001b[m \u001b[1m\u001b[36mOscillators_June_12_2024_8193\u001b[m\u001b[m\n",
      "\u001b[1m\u001b[36mOscillators_DOE_June_12_C_27662\u001b[m\u001b[m \u001b[1m\u001b[36mOscillators_June_9_2024_14948\u001b[m\u001b[m\n",
      "\u001b[1m\u001b[36mOscillators_June_10_A_11515\u001b[m\u001b[m     \u001b[1m\u001b[36mOscillators_May_28_2024_8898\u001b[m\u001b[m\n",
      "\u001b[1m\u001b[36mOscillators_June_10_B_10507\u001b[m\u001b[m     README.md\n"
     ]
    }
   ],
   "source": [
    "! ls /Users/jlheller/home/Technical/repos/OscillatorDatabase\n"
   ]
  },
  {
   "cell_type": "code",
   "execution_count": 25,
   "id": "7a0c7fe7-d2e2-40dd-a01b-3042a0127198",
   "metadata": {},
   "outputs": [
    {
     "name": "stdout",
     "output_type": "stream",
     "text": [
      "ls: /Users/jlheller/home/Technical/repos/OscillatorDatabase/Oscillators_June_9_2024_18070: No such file or directory\n"
     ]
    }
   ],
   "source": [
    "! ls /Users/jlheller/home/Technical/repos/OscillatorDatabase/Oscillators_June_9_2024_18070\n"
   ]
  }
 ],
 "metadata": {
  "kernelspec": {
   "display_name": "Python 3 (ipykernel)",
   "language": "python",
   "name": "python3"
  },
  "language_info": {
   "codemirror_mode": {
    "name": "ipython",
    "version": 3
   },
   "file_extension": ".py",
   "mimetype": "text/x-python",
   "name": "python",
   "nbconvert_exporter": "python",
   "pygments_lexer": "ipython3",
   "version": "3.9.6"
  }
 },
 "nbformat": 4,
 "nbformat_minor": 5
}
