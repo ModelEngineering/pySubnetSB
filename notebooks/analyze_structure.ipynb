{
 "cells": [
  {
   "cell_type": "markdown",
   "id": "d9611d53-baad-400c-afa1-4fb0402e826b",
   "metadata": {},
   "source": [
    "# ANALYZE STRUCTURE OF OSCILLATORS"
   ]
  },
  {
   "cell_type": "markdown",
   "id": "d272bc51-d8ef-4489-b622-33262d24bf0f",
   "metadata": {},
   "source": [
    "# Preliminaries"
   ]
  },
  {
   "cell_type": "code",
   "execution_count": 2,
   "id": "9a4ca71b-d538-4462-9ffb-0e4a2493018f",
   "metadata": {},
   "outputs": [],
   "source": [
    "from analysis.summary_statistics import SummaryStatistics\n",
    "from analysis.cluster_analyzer import ClusterAnalyzer\n",
    "from analysis.result_accessor import ResultAccessor\n",
    "import sirn.constants as cnn\n",
    "import analysis.constants as cn\n",
    "\n",
    "import os \n",
    "\n",
    "import copy\n",
    "import numpy as np\n",
    "from sbmlnetwork import SBMLNetwork\n",
    "import pandas as pd\n",
    "import tellurium as te\n",
    "from typing import List\n",
    "import matplotlib.pyplot as plt"
   ]
  },
  {
   "cell_type": "markdown",
   "id": "520ed8db-ba4f-4f01-9cd6-f8fe8454ae60",
   "metadata": {},
   "source": [
    "# Helpers"
   ]
  },
  {
   "cell_type": "code",
   "execution_count": 1,
   "id": "39109fb5-16fc-4c9a-aa1b-cad44fb0593e",
   "metadata": {},
   "outputs": [],
   "source": [
    "def drawModel(model):\n",
    "    rr = te.loada(model) \n",
    "    diagram = SBMLNetwork(rr.getSBML())\n",
    "    diagram.autolayout()\n",
    "    diagram.draw()"
   ]
  },
  {
   "cell_type": "markdown",
   "id": "8e5efdc6-7ccb-43d3-940f-3ad875374740",
   "metadata": {},
   "source": [
    "# Try SBMLNetwork"
   ]
  },
  {
   "cell_type": "code",
   "execution_count": null,
   "id": "fd104618-6e91-4307-9437-ea20babc5019",
   "metadata": {},
   "outputs": [],
   "source": [
    "model = \"\"\"\n",
    "S1 + S2 -> S3; k1*S1*S2\n",
    "S3 -> S1; k2*S3\n",
    "S1 = 10\n",
    "S2 = 10\n",
    "S3 =10\n",
    "k1 = 1\n",
    "k2 = 1\n",
    "\"\"\"\n",
    "rr = te.loada(model)\n",
    "rr.simulate()\n",
    "rr.plot()"
   ]
  },
  {
   "cell_type": "code",
   "execution_count": null,
   "id": "5b9479be-5185-463d-bb33-93cf6ccf7fd0",
   "metadata": {},
   "outputs": [],
   "source": [
    "\n",
    "\n",
    "# Tests\n",
    "model = \"\"\"\n",
    "S1 -> S2; S1\n",
    "S1 = 0; S2 = 0\n",
    "\"\"\"\n",
    "drawModel(model)"
   ]
  },
  {
   "cell_type": "code",
   "execution_count": null,
   "id": "64787415-1130-4794-a3e4-1fd515acdd5e",
   "metadata": {},
   "outputs": [],
   "source": [
    "model2 = model.replace(\"S\", \"B\")\n",
    "model2 = model2.replace(\"k\", \"kB\")\n",
    "model2 = model2.replace(\"B1\", \"BB\")\n",
    "model2 = model2.replace(\"B2\", \"B1\")\n",
    "model2 = model2.replace(\"BB\", \"B2\")"
   ]
  },
  {
   "cell_type": "code",
   "execution_count": null,
   "id": "5d3b6453-22f2-4215-861f-a4c0e7709852",
   "metadata": {},
   "outputs": [],
   "source": [
    "drawModel(model)\n",
    "drawModel(model2)"
   ]
  },
  {
   "cell_type": "markdown",
   "id": "88c54747-ff72-4e0e-8398-cf7ba2ebc526",
   "metadata": {},
   "source": [
    "# Basic Statistics"
   ]
  },
  {
   "cell_type": "markdown",
   "id": "3aecca5f-67e8-4fbb-bcc3-c4ec7af91044",
   "metadata": {},
   "source": [
    "## Determined Structural Identity"
   ]
  },
  {
   "cell_type": "code",
   "execution_count": null,
   "id": "997aafe4-7a6a-4876-b94e-d770a1d163e0",
   "metadata": {},
   "outputs": [],
   "source": [
    "# Effect of max_log_perm on June_10_B_10507"
   ]
  },
  {
   "cell_type": "markdown",
   "id": "b80250cb-1d4c-4854-a80c-02c08a047ab1",
   "metadata": {},
   "source": [
    "# Analyze Structurally Identical Files"
   ]
  },
  {
   "cell_type": "code",
   "execution_count": null,
   "id": "724f3909-987e-4479-9955-a277cbbd9b67",
   "metadata": {},
   "outputs": [],
   "source": [
    "_ = SummaryStatistics.plotMetricByConditions(\"is_indeterminate_mean\",\n",
    "                identity_types = [True],\n",
    "                max_num_perms = [100, 1000, 10000, 100000],\n",
    "                sirn_types = [False],\n",
    "                is_log=False,\n",
    "                legends=[\"100\", \"1000\", \"10000\", \"100000\"],\n",
    "                title=\"Naive Algorithm: Fraction Indeterminate By Maximum Number Permutations\",\n",
    "                ylabel=\"fraction\"\n",
    "                )"
   ]
  },
  {
   "cell_type": "code",
   "execution_count": null,
   "id": "cb378608-dd8e-4e6d-b02f-c26630274dd2",
   "metadata": {},
   "outputs": [],
   "source": [
    "_ = SummaryStatistics.plotMetricByConditions(\"processing_time_total\",\n",
    "                identity_types = [True],\n",
    "                max_num_perms = [100, 1000, 10000, 100000],\n",
    "                sirn_types = [False],\n",
    "                is_log=True,\n",
    "                legends=[\"100\", \"1000\", \"10000\", \"100000\"],\n",
    "                title=\"Naive Algorithm: Processing Times By Maximum Number Permutations\",\n",
    "                ylabel=\"log10 sec\"\n",
    "                )"
   ]
  },
  {
   "cell_type": "code",
   "execution_count": null,
   "id": "c72b48b6-258f-4822-b9aa-e0429322766f",
   "metadata": {},
   "outputs": [],
   "source": [
    "_ = SummaryStatistics.plotMetricByConditions(\"processing_time_total\",\n",
    "                identity_types = [True],\n",
    "                max_num_perms = [10000, 100000],\n",
    "                sirn_types = [True, False],\n",
    "                is_log=True,\n",
    "                legends=[\"DSIRN10000\", \"DSIRN100000\", \"Naive10000\", \"Naive100000\"],\n",
    "                title=\"DSIRN vs. Naive Algorithms for Strong Identity\"\n",
    "                )"
   ]
  },
  {
   "cell_type": "code",
   "execution_count": null,
   "id": "ec974aac-d027-4a96-aa41-c46201d2ba7b",
   "metadata": {},
   "outputs": [],
   "source": [
    "_ = SummaryStatistics.plotMetricByConditions(\"is_indeterminate_mean\",\n",
    "                identity_types = [True],\n",
    "                max_num_perms = [10000, 100000],\n",
    "                sirn_types = [False, True],\n",
    "                is_log=False,\n",
    "                legends=[\"DSIRN10000\", \"DSIRN100000\", \"Naive10000\", \"Naive100000\"],\n",
    "                title=\"Naive vs. DSIRN Algorithms: Fraction Indeterminate (strong identity)\"\n",
    "                )"
   ]
  },
  {
   "cell_type": "code",
   "execution_count": null,
   "id": "b0eaccb1-814c-4ea4-a66c-1535ef4d7481",
   "metadata": {},
   "outputs": [],
   "source": [
    " _ = SummaryStatistics.plotMetricByConditions(\"processing_time_total\",\n",
    "                identity_types = [False, True],\n",
    "                max_num_perms = [100000],\n",
    "                sirn_types = [True],\n",
    "                is_log=False,\n",
    "                legends=[\"weak\", \"strong\"],\n",
    "                title=\"DSIRN Weak vs. Strong\"\n",
    "                )"
   ]
  },
  {
   "cell_type": "code",
   "execution_count": null,
   "id": "abf4168c-d011-469f-9408-bfb13c28a87e",
   "metadata": {},
   "outputs": [],
   "source": [
    " _ = SummaryStatistics.plotMetricByConditions(\"is_indeterminate_mean\",\n",
    "                identity_types = [False, True],\n",
    "                max_num_perms = [1000, 10000],\n",
    "                sirn_types = [True],\n",
    "                is_log=False,\n",
    "                legends=[\"weak1000\", \"weak10000\", \"strong1000\", \"strong10000\"],\n",
    "                title=\"Weak Identity vs. Strong Identity: DSIRN Fraction Indeterminate Comparisons\"\n",
    "                )"
   ]
  },
  {
   "cell_type": "code",
   "execution_count": null,
   "id": "8f288225-3489-4041-81ce-f76e1d32fb6d",
   "metadata": {},
   "outputs": [],
   "source": [
    "_ = SummaryStatistics.plotMetricByConditions(\"processing_time_total\",\n",
    "                identity_types = [False, True],\n",
    "                max_num_perms = [1000, 10000],\n",
    "                sirn_types = [True],\n",
    "                is_log=False,\n",
    "                legends=[\"weak1000\", \"weak10000\", \"strong1000\", \"strong10000\"],\n",
    "                title=\"SIRN Weak Identity vs. Strong Identity: Processing Times\"\n",
    "                )"
   ]
  },
  {
   "cell_type": "code",
   "execution_count": null,
   "id": "2222c096-e502-4c8b-8fa6-9a0e66e29dd4",
   "metadata": {},
   "outputs": [],
   "source": [
    "_ = SummaryStatistics.plotMetricByConditions(\"cluster_size_eq1_mean\",\n",
    "                identity_types = [False, True],\n",
    "                max_num_perms = [10000],\n",
    "                sirn_types = [True],\n",
    "                is_log=False,\n",
    "                legends=[\"weak\", \"strong\"],\n",
    "                title=\"Fraction Structurally Unique\",\n",
    "                ylabel=\"fraction structurally unique\",\n",
    "                )"
   ]
  },
  {
   "cell_type": "code",
   "execution_count": null,
   "id": "65853b5a-34b4-4cd4-9b37-19409321e256",
   "metadata": {},
   "outputs": [],
   "source": [
    "_ = SummaryStatistics.plotMetricByConditions(\"cluster_size_gt1_total\",\n",
    "                identity_types = [False, True],\n",
    "                max_num_perms = [100000],\n",
    "                sirn_types = [True],\n",
    "                is_log=True,\n",
    "                legends=[\"weak\", \"strong\"],\n",
    "                title=\"Count of Clusters With Size > 1\",\n",
    "                ylabel=\"log10 count\",\n",
    "                )"
   ]
  },
  {
   "cell_type": "code",
   "execution_count": null,
   "id": "30e2b588-78f4-4d68-90ab-cf0f721c8177",
   "metadata": {},
   "outputs": [],
   "source": [
    "_ = SummaryStatistics.plotMetricByConditions(\"cluster_size_gt1_mean\",\n",
    "                identity_types = [False, True],\n",
    "                max_num_perms = [10000],\n",
    "                sirn_types = [True],\n",
    "                is_log=False,\n",
    "                legends=[\"weak\", \"strong\"],\n",
    "                title=\"SIRN: Mean Cluster Size if Not Unique\",\n",
    "                ylabel=\"cluster size\",\n",
    "                )"
   ]
  },
  {
   "cell_type": "code",
   "execution_count": null,
   "id": "6f3fd9f0-ab48-4b78-94c5-f055bf71e404",
   "metadata": {},
   "outputs": [],
   "source": [
    "_ = SummaryStatistics.plotMetricByConditions(\"cluster_size_gt1_max\",\n",
    "                identity_types = [False, True],\n",
    "                max_num_perms = [10000],\n",
    "                sirn_types = [True],\n",
    "                is_log=False,\n",
    "                legends=[\"weak\", \"strong\"],\n",
    "                title=\"SIRN Weak vs. Strong Maximum Cluster Size\",\n",
    "                ylabel=\"cluster size\",\n",
    "                )"
   ]
  },
  {
   "cell_type": "code",
   "execution_count": null,
   "id": "3b21c117-b5ca-4d9b-aa03-230d1abb208e",
   "metadata": {},
   "outputs": [],
   "source": [
    "_ = SummaryStatistics.plotMetricByConditions(\"cluster_size_gt1_max\",\n",
    "                identity_types = [True],\n",
    "                max_num_perms = [100000],\n",
    "                sirn_types = [False, True],\n",
    "                is_log=False,\n",
    "                legends=[\"naive\", \"SIRN\"],\n",
    "                title=\"Maximum Cluster Size (strong Identity, max permuation = 100,000)\",\n",
    "                ylabel=\"cluster size\",\n",
    "                )"
   ]
  },
  {
   "cell_type": "markdown",
   "id": "f8cd79de-b763-402a-91dd-ca5b5fbfa349",
   "metadata": {},
   "source": [
    "# Strongly Identical Models"
   ]
  },
  {
   "cell_type": "code",
   "execution_count": null,
   "id": "466d6d9c-2816-476c-aea7-5b555d871c6a",
   "metadata": {},
   "outputs": [],
   "source": [
    "path = ResultAccessor.getClusterResultPath(oscillator_dir=\"Oscillators_DOE_JUNE_12_B_41373\")\n",
    "statistics = SummaryStatistics(path)\n",
    "accessor = statistics.result_accessor\n",
    "#\n",
    "key = [k for k, v in statistics.cluster_dct.items() if len(v) == 66][0]\n",
    "models = [statistics.result_accessor.df.loc[n, cn.COL_MODEL_NAME] for n in statistics.cluster_dct[key]]\n",
    "for idx in range(10):\n",
    "    model_name = models[idx]\n",
    "    print(\"\\n\\n***\" + model_name)\n",
    "    antimony_str = accessor.getAntimonyFromModelname(model_name)\n",
    "    print(antimony_str)\n",
    "    drawModel(antimony_str)\n",
    "    rr = te.loada(antimony_str)\n",
    "    rr.simulate()\n",
    "    rr.plot()\n",
    "    "
   ]
  },
  {
   "cell_type": "markdown",
   "id": "cd37cc97-149a-410c-a35f-f0ef56c38016",
   "metadata": {},
   "source": [
    "# Example of Complicated Structural Identity"
   ]
  },
  {
   "cell_type": "code",
   "execution_count": 26,
   "id": "866a1abe-0b15-45df-97c7-4dafea873c34",
   "metadata": {},
   "outputs": [
    {
     "ename": "TypeError",
     "evalue": "'in <string>' requires string as left operand, not int",
     "output_type": "error",
     "traceback": [
      "\u001b[0;31m---------------------------------------------------------------------------\u001b[0m",
      "\u001b[0;31mTypeError\u001b[0m                                 Traceback (most recent call last)",
      "Cell \u001b[0;32mIn[26], line 34\u001b[0m\n\u001b[1;32m     32\u001b[0m models \u001b[38;5;241m=\u001b[39m statistics\u001b[38;5;241m.\u001b[39mcluster_dct[key]\n\u001b[1;32m     33\u001b[0m \u001b[38;5;28;01mfor\u001b[39;00m model \u001b[38;5;129;01min\u001b[39;00m models:\n\u001b[0;32m---> 34\u001b[0m     antimony_str \u001b[38;5;241m=\u001b[39m \u001b[43maccessor\u001b[49m\u001b[38;5;241;43m.\u001b[39;49m\u001b[43mgetAntimonyFromModelname\u001b[49m\u001b[43m(\u001b[49m\u001b[43mmodel\u001b[49m\u001b[43m)\u001b[49m\n\u001b[1;32m     35\u001b[0m     \u001b[38;5;28;01mif\u001b[39;00m \u001b[38;5;124m\"\u001b[39m\u001b[38;5;124mS6\u001b[39m\u001b[38;5;124m\"\u001b[39m \u001b[38;5;129;01min\u001b[39;00m antimony_str:\n\u001b[1;32m     36\u001b[0m         \u001b[38;5;28mprint\u001b[39m(antimony_str)\n",
      "File \u001b[0;32m~/home/Technical/repos/sirn/src/analysis/result_accessor.py:174\u001b[0m, in \u001b[0;36mResultAccessor.getAntimonyFromModelname\u001b[0;34m(self, model_name)\u001b[0m\n\u001b[1;32m    172\u001b[0m \u001b[38;5;28;01mwith\u001b[39;00m ZipFile(cn\u001b[38;5;241m.\u001b[39mOSCILLATOR_ZIP, \u001b[38;5;124m'\u001b[39m\u001b[38;5;124mr\u001b[39m\u001b[38;5;124m'\u001b[39m) \u001b[38;5;28;01mas\u001b[39;00m \u001b[38;5;28mzip\u001b[39m:\n\u001b[1;32m    173\u001b[0m     names \u001b[38;5;241m=\u001b[39m \u001b[38;5;28mzip\u001b[39m\u001b[38;5;241m.\u001b[39mnamelist()\n\u001b[0;32m--> 174\u001b[0m candidates \u001b[38;5;241m=\u001b[39m [n \u001b[38;5;28;01mfor\u001b[39;00m n \u001b[38;5;129;01min\u001b[39;00m names \u001b[38;5;28;01mif\u001b[39;00m model_name \u001b[38;5;129;01min\u001b[39;00m n]\n\u001b[1;32m    175\u001b[0m \u001b[38;5;28;01mif\u001b[39;00m \u001b[38;5;28mlen\u001b[39m(candidates) \u001b[38;5;241m>\u001b[39m \u001b[38;5;241m1\u001b[39m:\n\u001b[1;32m    176\u001b[0m     \u001b[38;5;28;01mraise\u001b[39;00m \u001b[38;5;167;01mValueError\u001b[39;00m(\u001b[38;5;124mf\u001b[39m\u001b[38;5;124m\"\u001b[39m\u001b[38;5;124mModel name \u001b[39m\u001b[38;5;132;01m{\u001b[39;00mmodel_name\u001b[38;5;132;01m}\u001b[39;00m\u001b[38;5;124m not uniquely found in \u001b[39m\u001b[38;5;132;01m{\u001b[39;00m\u001b[38;5;28mself\u001b[39m\u001b[38;5;241m.\u001b[39moscillator_dir\u001b[38;5;132;01m}\u001b[39;00m\u001b[38;5;124m\"\u001b[39m)\n",
      "File \u001b[0;32m~/home/Technical/repos/sirn/src/analysis/result_accessor.py:174\u001b[0m, in \u001b[0;36m<listcomp>\u001b[0;34m(.0)\u001b[0m\n\u001b[1;32m    172\u001b[0m \u001b[38;5;28;01mwith\u001b[39;00m ZipFile(cn\u001b[38;5;241m.\u001b[39mOSCILLATOR_ZIP, \u001b[38;5;124m'\u001b[39m\u001b[38;5;124mr\u001b[39m\u001b[38;5;124m'\u001b[39m) \u001b[38;5;28;01mas\u001b[39;00m \u001b[38;5;28mzip\u001b[39m:\n\u001b[1;32m    173\u001b[0m     names \u001b[38;5;241m=\u001b[39m \u001b[38;5;28mzip\u001b[39m\u001b[38;5;241m.\u001b[39mnamelist()\n\u001b[0;32m--> 174\u001b[0m candidates \u001b[38;5;241m=\u001b[39m [n \u001b[38;5;28;01mfor\u001b[39;00m n \u001b[38;5;129;01min\u001b[39;00m names \u001b[38;5;28;01mif\u001b[39;00m \u001b[43mmodel_name\u001b[49m\u001b[43m \u001b[49m\u001b[38;5;129;43;01min\u001b[39;49;00m\u001b[43m \u001b[49m\u001b[43mn\u001b[49m]\n\u001b[1;32m    175\u001b[0m \u001b[38;5;28;01mif\u001b[39;00m \u001b[38;5;28mlen\u001b[39m(candidates) \u001b[38;5;241m>\u001b[39m \u001b[38;5;241m1\u001b[39m:\n\u001b[1;32m    176\u001b[0m     \u001b[38;5;28;01mraise\u001b[39;00m \u001b[38;5;167;01mValueError\u001b[39;00m(\u001b[38;5;124mf\u001b[39m\u001b[38;5;124m\"\u001b[39m\u001b[38;5;124mModel name \u001b[39m\u001b[38;5;132;01m{\u001b[39;00mmodel_name\u001b[38;5;132;01m}\u001b[39;00m\u001b[38;5;124m not uniquely found in \u001b[39m\u001b[38;5;132;01m{\u001b[39;00m\u001b[38;5;28mself\u001b[39m\u001b[38;5;241m.\u001b[39moscillator_dir\u001b[38;5;132;01m}\u001b[39;00m\u001b[38;5;124m\"\u001b[39m)\n",
      "\u001b[0;31mTypeError\u001b[0m: 'in <string>' requires string as left operand, not int"
     ]
    }
   ],
   "source": [
    "from analysis.summary_statistics import SummaryStatistics\n",
    "from analysis.cluster_analyzer import ClusterAnalyzer\n",
    "from analysis.result_accessor import ResultAccessor\n",
    "import sirn.constants as cnn\n",
    "import analysis.constants as cn\n",
    "\n",
    "import os \n",
    "\n",
    "import copy\n",
    "import numpy as np\n",
    "from sbmlnetwork import SBMLNetwork\n",
    "import pandas as pd\n",
    "import tellurium as te\n",
    "from typing import List\n",
    "import matplotlib.pyplot as plt\n",
    "\n",
    "def drawModel(model):\n",
    "    rr = te.loada(model) \n",
    "    diagram = SBMLNetwork(rr.getSBML())\n",
    "    diagram.autolayout()\n",
    "    diagram.draw()\n",
    "\n",
    "path = ResultAccessor.getClusterResultPath(oscillator_dir=cnn.OSCILLATOR_DIRS[7])\n",
    "path = ResultAccessor.getClusterResultPath(oscillator_dir=cnn.OSCILLATOR_DIRS[4])\n",
    "statistics = SummaryStatistics(path)\n",
    "accessor = statistics.result_accessor\n",
    "#\n",
    "keys = [k for k, v in statistics.cluster_dct.items() if len(v) >= 2]\n",
    "models = []\n",
    "\n",
    "for key in keys:\n",
    "    idxs = statistics.cluster_dct[key]\n",
    "    for model in models:\n",
    "        antimony_str = accessor.getAntimonyFromModelname(model)\n",
    "        if \"S6\" in antimony_str:\n",
    "            print(antimony_str)"
   ]
  }
 ],
 "metadata": {
  "kernelspec": {
   "display_name": "Python 3 (ipykernel)",
   "language": "python",
   "name": "python3"
  },
  "language_info": {
   "codemirror_mode": {
    "name": "ipython",
    "version": 3
   },
   "file_extension": ".py",
   "mimetype": "text/x-python",
   "name": "python",
   "nbconvert_exporter": "python",
   "pygments_lexer": "ipython3",
   "version": "3.9.6"
  }
 },
 "nbformat": 4,
 "nbformat_minor": 5
}
