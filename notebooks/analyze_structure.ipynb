{
 "cells": [
  {
   "cell_type": "markdown",
   "id": "d9611d53-baad-400c-afa1-4fb0402e826b",
   "metadata": {},
   "source": [
    "# ANALYZE STRUCTURE OF OSCILLATORS"
   ]
  },
  {
   "cell_type": "markdown",
   "id": "d272bc51-d8ef-4489-b622-33262d24bf0f",
   "metadata": {},
   "source": [
    "# Preliminaries"
   ]
  },
  {
   "cell_type": "code",
   "execution_count": 64,
   "id": "9a4ca71b-d538-4462-9ffb-0e4a2493018f",
   "metadata": {},
   "outputs": [],
   "source": [
    "import collections\n",
    "import os\n",
    "import numpy as np\n",
    "import SBMLDiagrams as sd\n",
    "import pandas as pd\n",
    "from sirn.network_collection import NetworkCollection\n",
    "import sirn.constants as cn\n",
    "import tellurium as te\n",
    "from typing import List\n",
    "import matplotlib.pyplot as plt"
   ]
  },
  {
   "cell_type": "markdown",
   "id": "520ed8db-ba4f-4f01-9cd6-f8fe8454ae60",
   "metadata": {},
   "source": [
    "# Helpers"
   ]
  },
  {
   "cell_type": "code",
   "execution_count": 48,
   "id": "4c53d0e1-875f-4ac4-a512-264ac96708da",
   "metadata": {},
   "outputs": [
    {
     "data": {
      "text/plain": [
       "{'Oscillators_May_28_2024_8898': '/Users/jlheller/home/Technical/repos/sirn/data/weak_identity_1B/identity_Oscillators_May_28_2024_8898.txt',\n",
       " 'Oscillators_June_9_2024_14948': '/Users/jlheller/home/Technical/repos/sirn/data/weak_identity_1B/identity_Oscillators_June_9_2024_14948.txt',\n",
       " 'Oscillators_June_10_A_11515': '/Users/jlheller/home/Technical/repos/sirn/data/weak_identity_1B/identity_Oscillators_June_10_A_11515.txt',\n",
       " 'Oscillators_June_10_B_10507': '/Users/jlheller/home/Technical/repos/sirn/data/weak_identity_1B/identity_Oscillators_June_10_B_10507.txt',\n",
       " 'Oscillators_June_11_10160': '/Users/jlheller/home/Technical/repos/sirn/data/weak_identity_1B/identity_Oscillators_June_11_10160.txt',\n",
       " 'Oscillators_June_11_A_2024_6877': '/Users/jlheller/home/Technical/repos/sirn/data/weak_identity_1B/identity_Oscillators_June_11_A_2024_6877.txt',\n",
       " 'Oscillators_June_11_B_2024_7809': '/Users/jlheller/home/Technical/repos/sirn/data/weak_identity_1B/identity_Oscillators_June_11_B_2024_7809.txt',\n",
       " 'Oscillators_DOE_JUNE_10_17565': '/Users/jlheller/home/Technical/repos/sirn/data/weak_identity_1B/identity_Oscillators_DOE_JUNE_10_17565.txt',\n",
       " 'Oscillators_DOE_JUNE_12_A_30917': '/Users/jlheller/home/Technical/repos/sirn/data/weak_identity_1B/identity_Oscillators_DOE_JUNE_12_A_30917.txt',\n",
       " 'Oscillators_DOE_JUNE_12_B_41373': '/Users/jlheller/home/Technical/repos/sirn/data/weak_identity_1B/identity_Oscillators_DOE_JUNE_12_B_41373.txt',\n",
       " 'Oscillators_DOE_JUNE_12_C_27662': '/Users/jlheller/home/Technical/repos/sirn/data/weak_identity_1B/identity_Oscillators_DOE_JUNE_12_C_27662.txt'}"
      ]
     },
     "execution_count": 48,
     "metadata": {},
     "output_type": "execute_result"
    }
   ],
   "source": [
    "OSCILLATOR_PROJECT_DIR = \"/Users/jlheller/home/Technical/repos/OscillatorDatabase\"\n",
    "STRUCTURALLY_IDENTICAL_FILES = \"bestmodel_ZKtQg5szoAUk---bestmodel_lTR7BUrpcTAy---bestmodel_Y4fPEi7PvO0w---bestmodel_yhI1I1IxoudY---bestmodel_wCBCoNxIRqb0---bestmodel_xTKG3iamyD4S---bestmodel_ZqsnhNDEiUsx\".split(\"---\")\n",
    "IDENTITY_STRONG_PATH_DCT = {d: os.path.join(cn.DATA_DIR, \"strong_identity_1B\", \"identity_\" + d + \".txt\") for d in cn.OSCILLATOR_DIRS}\n",
    "IDENTITY_WEAK_PATH_DCT = {d: os.path.join(cn.DATA_DIR, \"weak_identity_1B\", \"identity_\" + d + \".txt\") for d in cn.OSCILLATOR_DIRS}\n",
    "IDENTITY_WEAK_PATH_DCT"
   ]
  },
  {
   "cell_type": "code",
   "execution_count": 69,
   "id": "de9969a8-949f-47a0-9750-3e768fe10628",
   "metadata": {},
   "outputs": [
    {
     "name": "stdout",
     "output_type": "stream",
     "text": [
      "OK!\n"
     ]
    }
   ],
   "source": [
    "\n",
    "\n",
    "class ResultAccessor(object):\n",
    "\n",
    "    def __init__(self, directory:str, is_strong:bool=True)->None:\n",
    "        \"\"\"\n",
    "        Args:\n",
    "            directory: Name of the directory with the Antimony files\n",
    "            is_strong: Use analysis from strong or weak identity\n",
    "        \"\"\"\n",
    "        self.directory = directory\n",
    "        self.is_strong = is_strong\n",
    "        #\n",
    "        self.results = self.makeResultStr()\n",
    "\n",
    "    def makeResultStr(self)->List[str]:\n",
    "        \"\"\"\n",
    "        Reads the result of identity matching and creates a list of strings.\n",
    "    \n",
    "        Args:\n",
    "            directory: str\n",
    "    \n",
    "        Results:\n",
    "            str\n",
    "        \"\"\"\n",
    "        if self.is_strong:\n",
    "            dct = IDENTITY_STRONG_PATH_DCT\n",
    "        else:\n",
    "            dct = IDENTITY_WEAK_PATH_DCT\n",
    "        path = dct[self.directory]\n",
    "        with open(path, \"r\") as fd:\n",
    "            results = fd.readlines()\n",
    "        results = [r[:-1] for r in results]\n",
    "        return results\n",
    "            \n",
    "\n",
    "# TESTS\n",
    "for is_strong in [True, False]:\n",
    "    accessor = ResultAccessor('Oscillators_May_28_2024_8898', is_strong=is_strong)\n",
    "    assert(isinstance(accessor.results, list))\n",
    "    assert(isinstance(accessor.results[0], str))\n",
    "print(\"OK!\")"
   ]
  },
  {
   "cell_type": "code",
   "execution_count": 70,
   "id": "d950ce22-f3b8-4596-8d55-9b3696c77ba2",
   "metadata": {},
   "outputs": [],
   "source": [
    "AggregateStatistics = collections.namedtuple(\"AggregateStatistics\",\n",
    "        \"directories dct\")\n",
    "\n",
    "NUM_DUPLICATE_STRONG = \"num_duplicate_strong\"\n",
    "NUM_INDETERMINANT_STRONG = \"num_indeterminant_strong\"\n",
    "TOTAL = \"total\"\n",
    "NUM_DUPLICATE_WEAK = \"num_duplicate_weak\"\n",
    "NUM_INDETERMINANT_WEAK = \"num_indeterminant_weak\"\n",
    "STATISTIC_NAMES = [NUM_DUPLICATE_STRONG, NUM_DUPLICATE_WEAK, NUM_INDETERMINANT_STRONG, NUM_INDETERMINANT_WEAK,\n",
    "                   TOTAL]\n",
    "\n",
    "class ResultStatistics(object):\n",
    "    # Provides statistics about results\n",
    "    def __init__(self, directory:str, is_strong:bool=True):\n",
    "        self.directory = directory\n",
    "        self.is_strong = is_strong\n",
    "        #\n",
    "        self.accessor = ResultAccessor(self.directory, is_strong=self.is_strong)\n",
    "        # Statistics\n",
    "        self.num_duplicate = np.sum([v.count(\"---\") for v in self.accessor.results])\n",
    "        self.num_indeterminant = np.sum([v.count(\"*\") for v in self.accessor.results])\n",
    "        self.total = len(self.accessor.results) + self.num_duplicate\n",
    "    \n",
    "    def aggregate(self)->AggregateStatistics:\n",
    "        \"\"\"\n",
    "        Aggregates statistics across the directories\n",
    "        \"\"\"\n",
    "        directories = list(cn.OSCILLATOR_DIRS)\n",
    "        dct = {n: [] for n in STATISTIC_NAMES}\n",
    "        for directory in directories:\n",
    "            for is_strong in [True, False]:\n",
    "                statistics = ResultStatistics(directory, is_strong=is_strong)\n",
    "                if is_strong:\n",
    "                    dct[NUM_DUPLICATE_STRONG] = accessor.num_duplicate\n",
    "                    dct[NUM_INDETERMINANT_STRONG] = accessor.num_\n",
    "                \n",
    "                \n",
    "\n",
    "# TESTS\n",
    "weak_statistics = ResultStatistics('Oscillators_June_10_B_10507', is_strong=False)   \n",
    "strong_statistics = ResultStatistics('Oscillators_June_10_B_10507', is_strong=True)   "
   ]
  },
  {
   "cell_type": "code",
   "execution_count": 59,
   "id": "16ed4eeb-010a-4a8e-b5b9-6c1c91d88757",
   "metadata": {},
   "outputs": [
    {
     "data": {
      "text/plain": [
       "(772, 382)"
      ]
     },
     "execution_count": 59,
     "metadata": {},
     "output_type": "execute_result"
    }
   ],
   "source": [
    "weak_statistics.num_duplicate, strong_statistics.num_duplicate"
   ]
  },
  {
   "cell_type": "markdown",
   "id": "88c54747-ff72-4e0e-8398-cf7ba2ebc526",
   "metadata": {},
   "source": [
    "# Basic Statistics"
   ]
  },
  {
   "cell_type": "markdown",
   "id": "3aecca5f-67e8-4fbb-bcc3-c4ec7af91044",
   "metadata": {},
   "source": [
    "## Effect of max_log_perm on June_10_B_10507"
   ]
  },
  {
   "cell_type": "code",
   "execution_count": 45,
   "id": "997aafe4-7a6a-4876-b94e-d770a1d163e0",
   "metadata": {},
   "outputs": [
    {
     "data": {
      "text/plain": [
       "<matplotlib.legend.Legend at 0x28fc98370>"
      ]
     },
     "execution_count": 45,
     "metadata": {},
     "output_type": "execute_result"
    },
    {
     "data": {
      "image/png": "[encoded data removed]",
      "text/plain": [
       "<Figure size 640x480 with 1 Axes>"
      ]
     },
     "metadata": {},
     "output_type": "display_data"
    }
   ],
   "source": [
    "# Effect of max_log_perm on June_10_B_10507\n",
    "num_duplicates = [0, 145, 270, 344, 368, 379, 382, 382]\n",
    "num_indeterminants = [3770, 3569, 3219, 2707, 2225, 1550, 1020, 635]\n",
    "exps = [2, 3, 4, 5, 6, 7, 8, 9]\n",
    "plt.plot(exps, num_duplicates/total, color=\"g\", marker=\"o\")\n",
    "plt.plot(exps, num_indeterminants/total, color=\"r\", marker=\"o\")\n",
    "plt.ylabel(\"fraction of total\")\n",
    "plt.xlabel(\"max permutations searched (log10)\")\n",
    "plt.legend([\"structurally identical\", \"indeterminant\"])"
   ]
  },
  {
   "cell_type": "code",
   "execution_count": null,
   "id": "b77e5804-6eef-4249-ae11-048441463a24",
   "metadata": {},
   "outputs": [],
   "source": [
    "## Histogram of directory frac duplicates, frac indeterminant"
   ]
  },
  {
   "cell_type": "code",
   "execution_count": 60,
   "id": "ffb5e6b6-80be-4781-9397-cf8d11556951",
   "metadata": {},
   "outputs": [
    {
     "data": {
      "image/png": "[encoded data removed]",
      "text/plain": [
       "<Figure size 640x480 with 1 Axes>"
      ]
     },
     "metadata": {},
     "output_type": "display_data"
    }
   ],
   "source": [
    "\n",
    "species = (\"Adelie\", \"Chinstrap\", \"Gentoo\")\n",
    "penguin_means = {\n",
    "    'Bill Depth': (18.35, 18.43, 14.98),\n",
    "    'Bill Length': (38.79, 48.83, 47.50),\n",
    "    'Flipper Length': (189.95, 195.82, 217.19),\n",
    "}\n",
    "\n",
    "x = np.arange(len(species))  # the label locations\n",
    "width = 0.25  # the width of the bars\n",
    "multiplier = 0\n",
    "\n",
    "fig, ax = plt.subplots(layout='constrained')\n",
    "\n",
    "for attribute, measurement in penguin_means.items():\n",
    "    offset = width * multiplier\n",
    "    rects = ax.bar(x + offset, measurement, width, label=attribute)\n",
    "    ax.bar_label(rects, padding=3)\n",
    "    multiplier += 1\n",
    "\n",
    "# Add some text for labels, title and custom x-axis tick labels, etc.\n",
    "ax.set_ylabel('Length (mm)')\n",
    "ax.set_title('Penguin attributes by species')\n",
    "ax.set_xticks(x + width, species)\n",
    "ax.legend(loc='upper left', ncols=3)\n",
    "ax.set_ylim(0, 250)\n",
    "\n",
    "plt.show()"
   ]
  },
  {
   "cell_type": "code",
   "execution_count": 44,
   "id": "b752cbbc-af88-4231-a04c-2548a6bbbcf6",
   "metadata": {},
   "outputs": [
    {
     "name": "stdout",
     "output_type": "stream",
     "text": [
      "\n",
      "\n",
      "***bestmodel_ZKtQg5szoAUk***\n",
      "S2 -> S1 + S2; k1*S2\n",
      "S2 -> S2 + S2; k2*S2\n",
      "S0 + S1 -> S0; k3*S0*S1\n",
      "S1 + S2 -> S1; k4*S1*S2\n",
      "k1 = 269.34707587541277\n",
      "k2 = 60.25478099219909\n",
      "k3 = 9.708813759773985\n",
      "k4 = 2.6580339984035137\n",
      "S0 = 1.0\n",
      "S1 = 5.0\n",
      "S2 = 9.0\n",
      "\n",
      "#fitness: 0.010533933868100998\n",
      "      _J0, _J1, _J2, _J3\n",
      "S2 [[   0,   1,   0,  -1],\n",
      "S1  [   1,   0,  -1,   0],\n",
      "S0  [   0,   0,   0,   0]]\n",
      "\n",
      "\n",
      "\n",
      "***bestmodel_lTR7BUrpcTAy***\n",
      "S2 -> S1 + S2; k1*S2\n",
      "S1 -> S1 + S2; k2*S1\n",
      "S1 + S2 -> S1; k3*S1*S2\n",
      "S0 + S1 -> S0; k4*S0*S1\n",
      "k1 = 134.85391054518985\n",
      "k2 = 0.2618898320507899\n",
      "k3 = 0.6839573639615687\n",
      "k4 = 10.216160875415516\n",
      "S0 = 1.0\n",
      "S1 = 5.0\n",
      "S2 = 9.0\n",
      "\n",
      "#fitness: 0.009368601631562357\n",
      "      _J0, _J1, _J2, _J3\n",
      "S2 [[   0,   1,  -1,   0],\n",
      "S1  [   1,   0,   0,  -1],\n",
      "S0  [   0,   0,   0,   0]]\n",
      "\n",
      "\n",
      "\n",
      "***bestmodel_Y4fPEi7PvO0w***\n",
      "S2 -> S1 + S2; k1*S2\n",
      "S2 -> S2 + S2; k2*S2\n",
      "S0 + S1 -> S0; k3*S0*S1\n",
      "S1 + S2 -> S1; k4*S1*S2\n",
      "k1 = 601.4930899862853\n",
      "k2 = 40.13089354097397\n",
      "k3 = 13.250842257269145\n",
      "k4 = 1.573007505680502\n",
      "S0 = 1.0\n",
      "S1 = 5.0\n",
      "S2 = 9.0\n",
      "\n",
      "#fitness: 0.00996529821939902\n",
      "      _J0, _J1, _J2, _J3\n",
      "S2 [[   0,   1,   0,  -1],\n",
      "S1  [   1,   0,  -1,   0],\n",
      "S0  [   0,   0,   0,   0]]\n",
      "\n",
      "\n",
      "\n",
      "***bestmodel_yhI1I1IxoudY***\n",
      "S2 -> S1 + S2; k1*S2\n",
      "S2 -> S2 + S2; k2*S2\n",
      "S0 + S1 -> S0; k3*S0*S1\n",
      "S1 + S2 -> S1; k4*S1*S2\n",
      "k1 = 314.1951236445023\n",
      "k2 = 61.289121018588844\n",
      "k3 = 10.013229670744828\n",
      "k4 = 2.746525011231811\n",
      "S0 = 1.0\n",
      "S1 = 5.0\n",
      "S2 = 9.0\n",
      "\n",
      "#fitness: 0.010695648106280748\n",
      "      _J0, _J1, _J2, _J3\n",
      "S2 [[   0,   1,   0,  -1],\n",
      "S1  [   1,   0,  -1,   0],\n",
      "S0  [   0,   0,   0,   0]]\n",
      "\n",
      "\n",
      "\n",
      "***bestmodel_wCBCoNxIRqb0***\n",
      "S2 -> S1 + S2; k1*S2\n",
      "S0 + S1 -> S0; k2*S0*S1\n",
      "S2 -> S0 + S2; k3*S2\n",
      "S0 + S2 -> S2; k4*S0*S2\n",
      "k1 = 106.27768250899788\n",
      "k2 = 1.2473448859263345\n",
      "k3 = 30.75357043193187\n",
      "k4 = 0.1865957531999142\n",
      "S0 = 1.0\n",
      "S1 = 5.0\n",
      "S2 = 9.0\n",
      "\n",
      "#fitness: 0.00941806131598989\n",
      "      _J0, _J1, _J2, _J3\n",
      "S2 [[   0,   0,   0,   0],\n",
      "S1  [   1,  -1,   0,   0],\n",
      "S0  [   0,   0,   1,  -1]]\n",
      "\n",
      "\n",
      "\n",
      "***bestmodel_xTKG3iamyD4S***\n",
      "S1 + S2 -> S1; k1*S1*S2\n",
      "S2 -> S1 + S2; k2*S2\n",
      "S0 + S1 -> S0; k3*S0*S1\n",
      "S2 -> S2 + S2; k4*S2\n",
      "k1 = 2.614242860371739\n",
      "k2 = 74.55170717621523\n",
      "k3 = 4.527388383312493\n",
      "k4 = 44.158227694302944\n",
      "S0 = 1.0\n",
      "S1 = 5.0\n",
      "S2 = 9.0\n",
      "\n",
      "#fitness: 0.009311543457885667\n",
      "      _J0, _J1, _J2, _J3\n",
      "S1 [[   0,   1,  -1,   0],\n",
      "S2  [  -1,   0,   0,   1],\n",
      "S0  [   0,   0,   0,   0]]\n",
      "\n",
      "\n",
      "\n",
      "***bestmodel_ZqsnhNDEiUsx***\n",
      "S2 -> S1 + S2; k1*S2\n",
      "S2 -> S2 + S2; k2*S2\n",
      "S0 + S1 -> S0; k3*S0*S1\n",
      "S1 + S2 -> S1; k4*S1*S2\n",
      "k1 = 7.85162607976089\n",
      "k2 = 82.25571085566656\n",
      "k3 = 6.791951260998792\n",
      "k4 = 3.945650673540993\n",
      "S0 = 1.0\n",
      "S1 = 5.0\n",
      "S2 = 9.0\n",
      "\n",
      "#fitness: 0.010653350968253684\n",
      "      _J0, _J1, _J2, _J3\n",
      "S2 [[   0,   1,   0,  -1],\n",
      "S1  [   1,   0,  -1,   0],\n",
      "S0  [   0,   0,   0,   0]]\n",
      "\n"
     ]
    }
   ],
   "source": [
    "ANTIMONY_STRS = []\n",
    "for ffile in STRUCTURALLY_IDENTICAL_FILES:\n",
    "    path = os.path.join(DIRECTORY, ffile)\n",
    "    with open(path, \"r\") as fd:\n",
    "        antimony_str = fd.readlines()\n",
    "        ANTIMONY_STRS.append(antimony_str)\n",
    "        rr = te.loada(\"\".join(antimony_str))\n",
    "    print(f'\\n\\n***{ffile}***')\n",
    "    print(\"\".join(antimony_str))\n",
    "    print(rr.getFullStoichiometryMatrix())"
   ]
  },
  {
   "cell_type": "code",
   "execution_count": 28,
   "id": "a4b92a93-7bed-4138-a39d-bc6a6fb25c1d",
   "metadata": {},
   "outputs": [
    {
     "data": {
      "text/plain": [
       "'bestmodel_4XpqKkCsNTOk'"
      ]
     },
     "execution_count": 28,
     "metadata": {},
     "output_type": "execute_result"
    }
   ],
   "source": [
    "ffile"
   ]
  },
  {
   "cell_type": "code",
   "execution_count": 26,
   "id": "d0f87e01-8aff-4126-a506-e0850cf5ce7c",
   "metadata": {},
   "outputs": [
    {
     "name": "stdout",
     "output_type": "stream",
     "text": [
      "LICENSE                         \u001b[1m\u001b[36mOscillators_June_11_10160\u001b[m\u001b[m\n",
      "\u001b[1m\u001b[36mOscillators_DOE_June_10_17565\u001b[m\u001b[m   \u001b[1m\u001b[36mOscillators_June_11_A_2024_6877\u001b[m\u001b[m\n",
      "\u001b[1m\u001b[36mOscillators_DOE_June_12_A_30917\u001b[m\u001b[m \u001b[1m\u001b[36mOscillators_June_11_B_2024_7809\u001b[m\u001b[m\n",
      "\u001b[1m\u001b[36mOscillators_DOE_June_12_B_41373\u001b[m\u001b[m \u001b[1m\u001b[36mOscillators_June_12_2024_8193\u001b[m\u001b[m\n",
      "\u001b[1m\u001b[36mOscillators_DOE_June_12_C_27662\u001b[m\u001b[m \u001b[1m\u001b[36mOscillators_June_9_2024_14948\u001b[m\u001b[m\n",
      "\u001b[1m\u001b[36mOscillators_June_10_A_11515\u001b[m\u001b[m     \u001b[1m\u001b[36mOscillators_May_28_2024_8898\u001b[m\u001b[m\n",
      "\u001b[1m\u001b[36mOscillators_June_10_B_10507\u001b[m\u001b[m     README.md\n"
     ]
    }
   ],
   "source": [
    "! ls /Users/jlheller/home/Technical/repos/OscillatorDatabase\n"
   ]
  },
  {
   "cell_type": "code",
   "execution_count": 25,
   "id": "7a0c7fe7-d2e2-40dd-a01b-3042a0127198",
   "metadata": {},
   "outputs": [
    {
     "name": "stdout",
     "output_type": "stream",
     "text": [
      "ls: /Users/jlheller/home/Technical/repos/OscillatorDatabase/Oscillators_June_9_2024_18070: No such file or directory\n"
     ]
    }
   ],
   "source": [
    "! ls /Users/jlheller/home/Technical/repos/OscillatorDatabase/Oscillators_June_9_2024_18070\n"
   ]
  }
 ],
 "metadata": {
  "kernelspec": {
   "display_name": "Python 3 (ipykernel)",
   "language": "python",
   "name": "python3"
  },
  "language_info": {
   "codemirror_mode": {
    "name": "ipython",
    "version": 3
   },
   "file_extension": ".py",
   "mimetype": "text/x-python",
   "name": "python",
   "nbconvert_exporter": "python",
   "pygments_lexer": "ipython3",
   "version": "3.9.6"
  }
 },
 "nbformat": 4,
 "nbformat_minor": 5
}
