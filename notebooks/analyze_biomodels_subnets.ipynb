{
 "cells": [
  {
   "cell_type": "markdown",
   "id": "a1a8a17a-2b6d-45b1-87ac-99821ed56698",
   "metadata": {},
   "source": [
    "# ANALYZE BIOMODELS SUBNETS"
   ]
  },
  {
   "cell_type": "code",
   "execution_count": 31,
   "id": "cd24ba31-b89f-42d9-b5f1-d7a886ee093d",
   "metadata": {},
   "outputs": [],
   "source": [
    "import pandas as pd\n",
    "import numpy as np\n",
    "import os\n",
    "import matplotlib.pyplot as plt\n",
    "import tellurium as te\n",
    "\n",
    "import pySubnetSB.constants as cn\n",
    "from pySubnetSB.network import Network"
   ]
  },
  {
   "cell_type": "markdown",
   "id": "9bf89105-63e1-4452-b23c-11dd6447b87a",
   "metadata": {},
   "source": [
    "# Data Preparation"
   ]
  },
  {
   "cell_type": "code",
   "execution_count": 3,
   "id": "1c2eb53e-de0d-4274-acdd-a9f54a8212a4",
   "metadata": {},
   "outputs": [
    {
     "data": {
      "text/html": [
       "<div>\n",
       "<style scoped>\n",
       "    .dataframe tbody tr th:only-of-type {\n",
       "        vertical-align: middle;\n",
       "    }\n",
       "\n",
       "    .dataframe tbody tr th {\n",
       "        vertical-align: top;\n",
       "    }\n",
       "\n",
       "    .dataframe thead th {\n",
       "        text-align: right;\n",
       "    }\n",
       "</style>\n",
       "<table border=\"1\" class=\"dataframe\">\n",
       "  <thead>\n",
       "    <tr style=\"text-align: right;\">\n",
       "      <th></th>\n",
       "      <th>reference_name</th>\n",
       "      <th>target_name</th>\n",
       "      <th>reference_network</th>\n",
       "      <th>induced_network</th>\n",
       "      <th>name_dct</th>\n",
       "      <th>num_assignment_pair</th>\n",
       "      <th>is_truncated</th>\n",
       "    </tr>\n",
       "  </thead>\n",
       "  <tbody>\n",
       "    <tr>\n",
       "      <th>0</th>\n",
       "      <td>BIOMD0000000191</td>\n",
       "      <td>BIOMD0000000146</td>\n",
       "      <td>NaN</td>\n",
       "      <td>NaN</td>\n",
       "      <td>NaN</td>\n",
       "      <td>NaN</td>\n",
       "      <td>False</td>\n",
       "    </tr>\n",
       "    <tr>\n",
       "      <th>1</th>\n",
       "      <td>BIOMD0000000191</td>\n",
       "      <td>BIOMD0000000807</td>\n",
       "      <td>NaN</td>\n",
       "      <td>NaN</td>\n",
       "      <td>NaN</td>\n",
       "      <td>NaN</td>\n",
       "      <td>False</td>\n",
       "    </tr>\n",
       "    <tr>\n",
       "      <th>2</th>\n",
       "      <td>BIOMD0000000191</td>\n",
       "      <td>BIOMD0000000595</td>\n",
       "      <td>NaN</td>\n",
       "      <td>NaN</td>\n",
       "      <td>NaN</td>\n",
       "      <td>NaN</td>\n",
       "      <td>False</td>\n",
       "    </tr>\n",
       "    <tr>\n",
       "      <th>3</th>\n",
       "      <td>BIOMD0000000191</td>\n",
       "      <td>BIOMD0000000998</td>\n",
       "      <td>NaN</td>\n",
       "      <td>NaN</td>\n",
       "      <td>NaN</td>\n",
       "      <td>NaN</td>\n",
       "      <td>False</td>\n",
       "    </tr>\n",
       "    <tr>\n",
       "      <th>4</th>\n",
       "      <td>BIOMD0000000191</td>\n",
       "      <td>BIOMD0000000806</td>\n",
       "      <td>NaN</td>\n",
       "      <td>NaN</td>\n",
       "      <td>NaN</td>\n",
       "      <td>NaN</td>\n",
       "      <td>False</td>\n",
       "    </tr>\n",
       "  </tbody>\n",
       "</table>\n",
       "</div>"
      ],
      "text/plain": [
       "    reference_name      target_name reference_network induced_network  \\\n",
       "0  BIOMD0000000191  BIOMD0000000146               NaN             NaN   \n",
       "1  BIOMD0000000191  BIOMD0000000807               NaN             NaN   \n",
       "2  BIOMD0000000191  BIOMD0000000595               NaN             NaN   \n",
       "3  BIOMD0000000191  BIOMD0000000998               NaN             NaN   \n",
       "4  BIOMD0000000191  BIOMD0000000806               NaN             NaN   \n",
       "\n",
       "  name_dct  num_assignment_pair  is_truncated  \n",
       "0      NaN                  NaN         False  \n",
       "1      NaN                  NaN         False  \n",
       "2      NaN                  NaN         False  \n",
       "3      NaN                  NaN         False  \n",
       "4      NaN                  NaN         False  "
      ]
     },
     "execution_count": 3,
     "metadata": {},
     "output_type": "execute_result"
    }
   ],
   "source": [
    "PATH = os.path.join(cn.PROJECT_DIR, \"biomodels_subnet_initial.csv\")\n",
    "df = pd.read_csv(PATH)\n",
    "df.head()"
   ]
  },
  {
   "cell_type": "code",
   "execution_count": 24,
   "id": "214071cd-9204-492d-a937-1532609cb871",
   "metadata": {},
   "outputs": [
    {
     "data": {
      "text/plain": [
       "(18, 489)"
      ]
     },
     "execution_count": 24,
     "metadata": {},
     "output_type": "execute_result"
    }
   ],
   "source": [
    "REFERENCE_NAMES = (df['reference_name'].unique())\n",
    "NUM_REFERENCE = len(REFERENCE_NAMES)\n",
    "TARGET_NAMES = (df['target_name'].unique())\n",
    "NUM_TARGET = len(TARGET_NAMES)\n",
    "NUM_REFERENCE, NUM_TARGET"
   ]
  },
  {
   "cell_type": "code",
   "execution_count": 6,
   "id": "f6ce7def-2497-45e3-afc2-520a116c3a9b",
   "metadata": {},
   "outputs": [
    {
     "data": {
      "text/html": [
       "<div>\n",
       "<style scoped>\n",
       "    .dataframe tbody tr th:only-of-type {\n",
       "        vertical-align: middle;\n",
       "    }\n",
       "\n",
       "    .dataframe tbody tr th {\n",
       "        vertical-align: top;\n",
       "    }\n",
       "\n",
       "    .dataframe thead th {\n",
       "        text-align: right;\n",
       "    }\n",
       "</style>\n",
       "<table border=\"1\" class=\"dataframe\">\n",
       "  <thead>\n",
       "    <tr style=\"text-align: right;\">\n",
       "      <th></th>\n",
       "      <th>index</th>\n",
       "      <th>reference_name</th>\n",
       "      <th>target_name</th>\n",
       "      <th>reference_network</th>\n",
       "      <th>induced_network</th>\n",
       "      <th>name_dct</th>\n",
       "      <th>num_assignment_pair</th>\n",
       "      <th>is_truncated</th>\n",
       "    </tr>\n",
       "  </thead>\n",
       "  <tbody>\n",
       "    <tr>\n",
       "      <th>0</th>\n",
       "      <td>78</td>\n",
       "      <td>BIOMD0000000191</td>\n",
       "      <td>BIOMD0000000687</td>\n",
       "      <td>BIOMD0000000191: 3 species, 5 reactions\\n  Arg...</td>\n",
       "      <td>2876666: 3 species, 5 reactions\\n  Infected_ce...</td>\n",
       "      <td>{\"species_names\": {\"ORN\": \"y_0\", \"ARGin\": \"L_0...</td>\n",
       "      <td>10.0</td>\n",
       "      <td>False</td>\n",
       "    </tr>\n",
       "    <tr>\n",
       "      <th>1</th>\n",
       "      <td>998</td>\n",
       "      <td>BIOMD0000000225</td>\n",
       "      <td>BIOMD0000000687</td>\n",
       "      <td>BIOMD0000000225: 5 species, 3 reactions\\n  vgk...</td>\n",
       "      <td>3920388: 5 species, 3 reactions\\n  Infection_2...</td>\n",
       "      <td>{\"species_names\": {\"G6P_F6P\": \"L_0\", \"FBP\": \"y...</td>\n",
       "      <td>11.0</td>\n",
       "      <td>False</td>\n",
       "    </tr>\n",
       "    <tr>\n",
       "      <th>2</th>\n",
       "      <td>1046</td>\n",
       "      <td>BIOMD0000000225</td>\n",
       "      <td>BIOMD0000000320</td>\n",
       "      <td>BIOMD0000000225: 5 species, 3 reactions\\n  vgk...</td>\n",
       "      <td>8660264: 5 species, 3 reactions\\n  benserazide...</td>\n",
       "      <td>{\"species_names\": {\"G6P_F6P\": \"C1_B\", \"FBP\": \"...</td>\n",
       "      <td>5.0</td>\n",
       "      <td>False</td>\n",
       "    </tr>\n",
       "    <tr>\n",
       "      <th>3</th>\n",
       "      <td>1652</td>\n",
       "      <td>BIOMD0000000967</td>\n",
       "      <td>BIOMD0000000726</td>\n",
       "      <td>BIOMD0000000967: 4 species, 9 reactions\\n  R_D...</td>\n",
       "      <td>211519: 4 species, 9 reactions\\n  reaction_5: ...</td>\n",
       "      <td>{\"species_names\": {\"R\": \"S_d\", \"L\": \"E_d\", \"E\"...</td>\n",
       "      <td>1.0</td>\n",
       "      <td>False</td>\n",
       "    </tr>\n",
       "    <tr>\n",
       "      <th>4</th>\n",
       "      <td>1654</td>\n",
       "      <td>BIOMD0000000967</td>\n",
       "      <td>BIOMD0000000852</td>\n",
       "      <td>BIOMD0000000967: 4 species, 9 reactions\\n  R_D...</td>\n",
       "      <td>8413826: 4 species, 9 reactions\\n  HSC_Prolife...</td>\n",
       "      <td>{\"species_names\": {\"R\": \"x0\", \"L\": \"y0\", \"E\": ...</td>\n",
       "      <td>2.0</td>\n",
       "      <td>False</td>\n",
       "    </tr>\n",
       "  </tbody>\n",
       "</table>\n",
       "</div>"
      ],
      "text/plain": [
       "   index   reference_name      target_name  \\\n",
       "0     78  BIOMD0000000191  BIOMD0000000687   \n",
       "1    998  BIOMD0000000225  BIOMD0000000687   \n",
       "2   1046  BIOMD0000000225  BIOMD0000000320   \n",
       "3   1652  BIOMD0000000967  BIOMD0000000726   \n",
       "4   1654  BIOMD0000000967  BIOMD0000000852   \n",
       "\n",
       "                                   reference_network  \\\n",
       "0  BIOMD0000000191: 3 species, 5 reactions\\n  Arg...   \n",
       "1  BIOMD0000000225: 5 species, 3 reactions\\n  vgk...   \n",
       "2  BIOMD0000000225: 5 species, 3 reactions\\n  vgk...   \n",
       "3  BIOMD0000000967: 4 species, 9 reactions\\n  R_D...   \n",
       "4  BIOMD0000000967: 4 species, 9 reactions\\n  R_D...   \n",
       "\n",
       "                                     induced_network  \\\n",
       "0  2876666: 3 species, 5 reactions\\n  Infected_ce...   \n",
       "1  3920388: 5 species, 3 reactions\\n  Infection_2...   \n",
       "2  8660264: 5 species, 3 reactions\\n  benserazide...   \n",
       "3  211519: 4 species, 9 reactions\\n  reaction_5: ...   \n",
       "4  8413826: 4 species, 9 reactions\\n  HSC_Prolife...   \n",
       "\n",
       "                                            name_dct  num_assignment_pair  \\\n",
       "0  {\"species_names\": {\"ORN\": \"y_0\", \"ARGin\": \"L_0...                 10.0   \n",
       "1  {\"species_names\": {\"G6P_F6P\": \"L_0\", \"FBP\": \"y...                 11.0   \n",
       "2  {\"species_names\": {\"G6P_F6P\": \"C1_B\", \"FBP\": \"...                  5.0   \n",
       "3  {\"species_names\": {\"R\": \"S_d\", \"L\": \"E_d\", \"E\"...                  1.0   \n",
       "4  {\"species_names\": {\"R\": \"x0\", \"L\": \"y0\", \"E\": ...                  2.0   \n",
       "\n",
       "   is_truncated  \n",
       "0         False  \n",
       "1         False  \n",
       "2         False  \n",
       "3         False  \n",
       "4         False  "
      ]
     },
     "execution_count": 6,
     "metadata": {},
     "output_type": "execute_result"
    }
   ],
   "source": [
    "SUBNET_DF = df[df['num_assignment_pair'] > 0]\n",
    "SUBNET_DF = SUBNET_DF.copy()\n",
    "SUBNET_DF = SUBNET_DF.reset_index()\n",
    "SUBNET_DF.head()"
   ]
  },
  {
   "cell_type": "code",
   "execution_count": 19,
   "id": "d8819527-febb-4ad7-9005-cb211e940f2d",
   "metadata": {},
   "outputs": [
    {
     "data": {
      "image/png": "[encoded data removed]",
      "text/plain": [
       "<Figure size 640x480 with 1 Axes>"
      ]
     },
     "metadata": {},
     "output_type": "display_data"
    }
   ],
   "source": [
    "# Number of targets\n",
    "_ = plt.hist(SUBNET_DF['reference_name'], bins=100)\n",
    "_ = plt.xticks(rotation=45)"
   ]
  },
  {
   "cell_type": "code",
   "execution_count": 51,
   "id": "3d60abcd-731a-47d4-8e29-2925e51fab2f",
   "metadata": {},
   "outputs": [],
   "source": [
    "def makeAntimony(model_name:str, is_reference:bool=True, is_roadrunner_loadable:bool=False):\n",
    "    \"\"\"\n",
    "    Transforms the string in a \"network\" cell into an antimony model\n",
    "    \"\"\"\n",
    "    if is_reference:\n",
    "        name_col = 'reference_name'\n",
    "        network_col = 'reference_network'\n",
    "    else:\n",
    "        name_col = 'target_name'\n",
    "        network_col = 'induced_network'\n",
    "    models =  SUBNET_DF[SUBNET_DF[name_col] == model_name][network_col].values\n",
    "    if len(models) == 0:\n",
    "        import pdb; pdb.set_trace()\n",
    "    model = models[0]\n",
    "    if is_roadrunner_loadable:\n",
    "        pos = model.index('tions\\n')\n",
    "        model = model[pos+7:]\n",
    "        model = model.replace('\\n', ';1\\n')\n",
    "        model += \";1;\"\n",
    "    return model\n",
    "\n",
    "model = makeAntimony('BIOMD0000000967', is_roadrunner_loadable=True)\n",
    "rr = te.loada(model)\n"
   ]
  },
  {
   "cell_type": "code",
   "execution_count": 54,
   "id": "abee53cf-ddaa-431a-ae60-6d5c4394b54a",
   "metadata": {},
   "outputs": [
    {
     "name": "stdout",
     "output_type": "stream",
     "text": [
      "BIOMD0000000967: 4 species, 9 reactions\n",
      "  R_Death: R -> \n",
      "  R_Birth:  -> R\n",
      "  R_to_L: R -> L\n",
      "  R_to_E: R -> E\n",
      "  L_Death: L -> \n",
      "  L_to_E: L -> E\n",
      "  E_Death: E -> \n",
      "  V_Death: V -> \n",
      "  V_Creation:  -> V\n",
      "\n",
      "\n",
      "\n",
      "BIOMD0000000225: 5 species, 3 reactions\n",
      "  vgk: GLC -> G6P_F6P\n",
      "  vpfk: G6P_F6P -> FBP\n",
      "  vfba: FBP -> G3P\n",
      "\n",
      "\n",
      "\n",
      "BIOMD0000000191: 3 species, 5 reactions\n",
      "  Arginase: ARGin -> ORN\n",
      "  Arginine_transport: ARGex -> ARGin\n",
      "  Ornithine_efflux: ORN -> \n",
      "  NOS: ARGin -> \n",
      "  ODC: ORN -> \n",
      "\n",
      "\n",
      "\n",
      "BIOMD0000000224: 4 species, 6 reactions\n",
      "  JChannel: CaS -> CaI\n",
      "  JPump: CaI -> CaS\n",
      "  kPLC:  -> IP3\n",
      "  kPhosphatase: IP3 -> \n",
      "  inhibition_parameter1:  -> g\n",
      "  inhibition_parameter2: g -> \n",
      "\n",
      "\n",
      "\n",
      "BIOMD0000000027: 5 species, 4 reactions\n",
      "  v1: M -> Mp\n",
      "  v2: Mp -> Mpp\n",
      "  v3: Mpp -> Mp\n",
      "  v4: Mp -> M\n",
      "\n",
      "\n",
      "\n"
     ]
    }
   ],
   "source": [
    "for name in ['BIOMD0000000967', 'BIOMD0000000225', 'BIOMD0000000191', 'BIOMD0000000224', 'BIOMD0000000027']:\n",
    "    print(makeAntimony(name))\n",
    "    print('\\n\\n')"
   ]
  },
  {
   "cell_type": "code",
   "execution_count": 53,
   "id": "7f762cc5-25ba-4709-83e9-59ca8a2eaa93",
   "metadata": {},
   "outputs": [
    {
     "data": {
      "text/plain": [
       "array(['BIOMD0000000191', 'BIOMD0000000387', 'BIOMD0000000224',\n",
       "       'BIOMD0000000556', 'BIOMD0000000026', 'BIOMD0000000967',\n",
       "       'BIOMD0000000966', 'BIOMD0000000755', 'BIOMD0000000027',\n",
       "       'BIOMD0000000231', 'BIOMD0000000225', 'BIOMD0000000386',\n",
       "       'BIOMD0000000812', 'BIOMD0000000184', 'BIOMD0000000609',\n",
       "       'BIOMD0000000186', 'BIOMD0000000353', 'BIOMD0000000384'],\n",
       "      dtype=object)"
      ]
     },
     "execution_count": 53,
     "metadata": {},
     "output_type": "execute_result"
    }
   ],
   "source": [
    "REFERENCE_NAMES\n"
   ]
  }
 ],
 "metadata": {
  "kernelspec": {
   "display_name": "Python 3 (ipykernel)",
   "language": "python",
   "name": "python3"
  },
  "language_info": {
   "codemirror_mode": {
    "name": "ipython",
    "version": 3
   },
   "file_extension": ".py",
   "mimetype": "text/x-python",
   "name": "python",
   "nbconvert_exporter": "python",
   "pygments_lexer": "ipython3",
   "version": "3.9.6"
  }
 },
 "nbformat": 4,
 "nbformat_minor": 5
}
